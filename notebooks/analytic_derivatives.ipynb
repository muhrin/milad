{
 "cells": [
  {
   "cell_type": "code",
   "execution_count": 52,
   "metadata": {
    "collapsed": true
   },
   "outputs": [],
   "source": [
    "import itertools\n",
    "from typing import Tuple, Union\n",
    "\n",
    "import sympy\n",
    "\n",
    "from milad import geometric, invariants\n",
    "\n",
    "sympy.init_printing()\n",
    "ORDER = 10\n",
    "NUM_POINTS = 8"
   ]
  },
  {
   "cell_type": "code",
   "execution_count": 53,
   "outputs": [],
   "source": [
    "def create_array(indexable, shape: Union[int, Tuple[int]]):\n",
    "    if isinstance(shape, int):\n",
    "        shape = (shape,)\n",
    "\n",
    "    components = sympy.MutableDenseNDimArray.zeros(*shape)\n",
    "\n",
    "    ranges = [range(entry) for entry in shape]\n",
    "    for indices in itertools.product(*ranges):\n",
    "        components[indices] = indexable[indices]\n",
    "\n",
    "    return components"
   ],
   "metadata": {
    "collapsed": false,
    "pycharm": {
     "name": "#%%\n"
    }
   }
  },
  {
   "cell_type": "code",
   "execution_count": 54,
   "outputs": [
    {
     "name": "stdout",
     "output_type": "stream",
     "text": [
      "Shape of m: (11, 11, 11) (<class 'sympy.tensor.array.dense_ndim_array.MutableDenseNDimArray'>)\n",
      "Shape of dm/dr: (8, 3, 11, 11, 11)\n"
     ]
    }
   ],
   "source": [
    "r = sympy.IndexedBase('r')  # Positions of particles\n",
    "w = sympy.IndexedBase('w')  # Weights of particles\n",
    "m = sympy.IndexedBase('m')  # Weights of particles\n",
    "\n",
    "moments = geometric.from_deltas_analytic(ORDER, NUM_POINTS, pos_symbols=r, weight_symbols=w)\n",
    "print(\"Shape of m: {} ({})\".format(moments.shape, type(moments)))\n",
    "\n",
    "r_array = create_array(r, (NUM_POINTS, 3))\n",
    "r_derivatives = sympy.derive_by_array(moments, r_array)\n",
    "\n",
    "print(\"Shape of dm/dr: {}\".format(r_derivatives.shape))"
   ],
   "metadata": {
    "collapsed": false,
    "pycharm": {
     "name": "#%%\n"
    }
   }
  },
  {
   "cell_type": "code",
   "execution_count": 55,
   "outputs": [
    {
     "name": "stdout",
     "output_type": "stream",
     "text": [
      "Phi.shape: (10,)\n"
     ]
    }
   ],
   "source": [
    "w_array = create_array(w, NUM_POINTS)\n",
    "w_derivatives = sympy.derive_by_array(moments, w_array)\n",
    "\n",
    "# print(w_derivatives.shape)\n",
    "\n",
    "invs = invariants.read(read_max=10)\n",
    "phi = sympy.Array(invs.apply(m))\n",
    "\n",
    "print(\"Phi.shape: {}\".format(phi.shape))"
   ],
   "metadata": {
    "collapsed": false,
    "pycharm": {
     "name": "#%%\n"
    }
   }
  },
  {
   "cell_type": "code",
   "execution_count": 56,
   "outputs": [
    {
     "name": "stdout",
     "output_type": "stream",
     "text": [
      "Shape of dp/dm: (11, 11, 11, 10)\n"
     ]
    }
   ],
   "source": [
    "m_array = create_array(m, (ORDER + 1, ORDER + 1, ORDER + 1))\n",
    "\n",
    "derivs = sympy.derive_by_array(phi, m_array)\n",
    "\n",
    "print(\"Shape of dp/dm: {}\".format(derivs.shape))\n"
   ],
   "metadata": {
    "collapsed": false,
    "pycharm": {
     "name": "#%%\n"
    }
   }
  },
  {
   "cell_type": "code",
   "execution_count": 57,
   "outputs": [
    {
     "name": "stdout",
     "output_type": "stream",
     "text": [
      "6*m[1, 0, 2]*r[0, 2]**2*w[0] + 12*m[1, 1, 1]*r[0, 1]*r[0, 2]*w[0] + 6*m[1, 2, 0]*r[0, 1]**2*w[0] + 12*m[2, 0, 1]*r[0, 0]*r[0, 2]*w[0] + 12*m[2, 1, 0]*r[0, 0]*r[0, 1]*w[0] + 6*m[3, 0, 0]*r[0, 0]**2*w[0]\n",
      "6*m[0, 1, 2]*r[0, 2]**2*w[0] + 12*m[0, 2, 1]*r[0, 1]*r[0, 2]*w[0] + 6*m[0, 3, 0]*r[0, 1]**2*w[0] + 12*m[1, 1, 1]*r[0, 0]*r[0, 2]*w[0] + 12*m[1, 2, 0]*r[0, 0]*r[0, 1]*w[0] + 6*m[2, 1, 0]*r[0, 0]**2*w[0]\n",
      "6*m[0, 0, 3]*r[0, 2]**2*w[0] + 12*m[0, 1, 2]*r[0, 1]*r[0, 2]*w[0] + 6*m[0, 2, 1]*r[0, 1]**2*w[0] + 12*m[1, 0, 2]*r[0, 0]*r[0, 2]*w[0] + 12*m[1, 1, 1]*r[0, 0]*r[0, 1]*w[0] + 6*m[2, 0, 1]*r[0, 0]**2*w[0]\n",
      "6*m[1, 0, 2]*r[1, 2]**2*w[1] + 12*m[1, 1, 1]*r[1, 1]*r[1, 2]*w[1] + 6*m[1, 2, 0]*r[1, 1]**2*w[1] + 12*m[2, 0, 1]*r[1, 0]*r[1, 2]*w[1] + 12*m[2, 1, 0]*r[1, 0]*r[1, 1]*w[1] + 6*m[3, 0, 0]*r[1, 0]**2*w[1]\n",
      "6*m[0, 1, 2]*r[1, 2]**2*w[1] + 12*m[0, 2, 1]*r[1, 1]*r[1, 2]*w[1] + 6*m[0, 3, 0]*r[1, 1]**2*w[1] + 12*m[1, 1, 1]*r[1, 0]*r[1, 2]*w[1] + 12*m[1, 2, 0]*r[1, 0]*r[1, 1]*w[1] + 6*m[2, 1, 0]*r[1, 0]**2*w[1]\n",
      "6*m[0, 0, 3]*r[1, 2]**2*w[1] + 12*m[0, 1, 2]*r[1, 1]*r[1, 2]*w[1] + 6*m[0, 2, 1]*r[1, 1]**2*w[1] + 12*m[1, 0, 2]*r[1, 0]*r[1, 2]*w[1] + 12*m[1, 1, 1]*r[1, 0]*r[1, 1]*w[1] + 6*m[2, 0, 1]*r[1, 0]**2*w[1]\n",
      "6*m[1, 0, 2]*r[2, 2]**2*w[2] + 12*m[1, 1, 1]*r[2, 1]*r[2, 2]*w[2] + 6*m[1, 2, 0]*r[2, 1]**2*w[2] + 12*m[2, 0, 1]*r[2, 0]*r[2, 2]*w[2] + 12*m[2, 1, 0]*r[2, 0]*r[2, 1]*w[2] + 6*m[3, 0, 0]*r[2, 0]**2*w[2]\n",
      "6*m[0, 1, 2]*r[2, 2]**2*w[2] + 12*m[0, 2, 1]*r[2, 1]*r[2, 2]*w[2] + 6*m[0, 3, 0]*r[2, 1]**2*w[2] + 12*m[1, 1, 1]*r[2, 0]*r[2, 2]*w[2] + 12*m[1, 2, 0]*r[2, 0]*r[2, 1]*w[2] + 6*m[2, 1, 0]*r[2, 0]**2*w[2]\n",
      "6*m[0, 0, 3]*r[2, 2]**2*w[2] + 12*m[0, 1, 2]*r[2, 1]*r[2, 2]*w[2] + 6*m[0, 2, 1]*r[2, 1]**2*w[2] + 12*m[1, 0, 2]*r[2, 0]*r[2, 2]*w[2] + 12*m[1, 1, 1]*r[2, 0]*r[2, 1]*w[2] + 6*m[2, 0, 1]*r[2, 0]**2*w[2]\n",
      "6*m[1, 0, 2]*r[3, 2]**2*w[3] + 12*m[1, 1, 1]*r[3, 1]*r[3, 2]*w[3] + 6*m[1, 2, 0]*r[3, 1]**2*w[3] + 12*m[2, 0, 1]*r[3, 0]*r[3, 2]*w[3] + 12*m[2, 1, 0]*r[3, 0]*r[3, 1]*w[3] + 6*m[3, 0, 0]*r[3, 0]**2*w[3]\n",
      "6*m[0, 1, 2]*r[3, 2]**2*w[3] + 12*m[0, 2, 1]*r[3, 1]*r[3, 2]*w[3] + 6*m[0, 3, 0]*r[3, 1]**2*w[3] + 12*m[1, 1, 1]*r[3, 0]*r[3, 2]*w[3] + 12*m[1, 2, 0]*r[3, 0]*r[3, 1]*w[3] + 6*m[2, 1, 0]*r[3, 0]**2*w[3]\n",
      "6*m[0, 0, 3]*r[3, 2]**2*w[3] + 12*m[0, 1, 2]*r[3, 1]*r[3, 2]*w[3] + 6*m[0, 2, 1]*r[3, 1]**2*w[3] + 12*m[1, 0, 2]*r[3, 0]*r[3, 2]*w[3] + 12*m[1, 1, 1]*r[3, 0]*r[3, 1]*w[3] + 6*m[2, 0, 1]*r[3, 0]**2*w[3]\n",
      "6*m[1, 0, 2]*r[4, 2]**2*w[4] + 12*m[1, 1, 1]*r[4, 1]*r[4, 2]*w[4] + 6*m[1, 2, 0]*r[4, 1]**2*w[4] + 12*m[2, 0, 1]*r[4, 0]*r[4, 2]*w[4] + 12*m[2, 1, 0]*r[4, 0]*r[4, 1]*w[4] + 6*m[3, 0, 0]*r[4, 0]**2*w[4]\n",
      "6*m[0, 1, 2]*r[4, 2]**2*w[4] + 12*m[0, 2, 1]*r[4, 1]*r[4, 2]*w[4] + 6*m[0, 3, 0]*r[4, 1]**2*w[4] + 12*m[1, 1, 1]*r[4, 0]*r[4, 2]*w[4] + 12*m[1, 2, 0]*r[4, 0]*r[4, 1]*w[4] + 6*m[2, 1, 0]*r[4, 0]**2*w[4]\n",
      "6*m[0, 0, 3]*r[4, 2]**2*w[4] + 12*m[0, 1, 2]*r[4, 1]*r[4, 2]*w[4] + 6*m[0, 2, 1]*r[4, 1]**2*w[4] + 12*m[1, 0, 2]*r[4, 0]*r[4, 2]*w[4] + 12*m[1, 1, 1]*r[4, 0]*r[4, 1]*w[4] + 6*m[2, 0, 1]*r[4, 0]**2*w[4]\n",
      "6*m[1, 0, 2]*r[5, 2]**2*w[5] + 12*m[1, 1, 1]*r[5, 1]*r[5, 2]*w[5] + 6*m[1, 2, 0]*r[5, 1]**2*w[5] + 12*m[2, 0, 1]*r[5, 0]*r[5, 2]*w[5] + 12*m[2, 1, 0]*r[5, 0]*r[5, 1]*w[5] + 6*m[3, 0, 0]*r[5, 0]**2*w[5]\n",
      "6*m[0, 1, 2]*r[5, 2]**2*w[5] + 12*m[0, 2, 1]*r[5, 1]*r[5, 2]*w[5] + 6*m[0, 3, 0]*r[5, 1]**2*w[5] + 12*m[1, 1, 1]*r[5, 0]*r[5, 2]*w[5] + 12*m[1, 2, 0]*r[5, 0]*r[5, 1]*w[5] + 6*m[2, 1, 0]*r[5, 0]**2*w[5]\n",
      "6*m[0, 0, 3]*r[5, 2]**2*w[5] + 12*m[0, 1, 2]*r[5, 1]*r[5, 2]*w[5] + 6*m[0, 2, 1]*r[5, 1]**2*w[5] + 12*m[1, 0, 2]*r[5, 0]*r[5, 2]*w[5] + 12*m[1, 1, 1]*r[5, 0]*r[5, 1]*w[5] + 6*m[2, 0, 1]*r[5, 0]**2*w[5]\n",
      "6*m[1, 0, 2]*r[6, 2]**2*w[6] + 12*m[1, 1, 1]*r[6, 1]*r[6, 2]*w[6] + 6*m[1, 2, 0]*r[6, 1]**2*w[6] + 12*m[2, 0, 1]*r[6, 0]*r[6, 2]*w[6] + 12*m[2, 1, 0]*r[6, 0]*r[6, 1]*w[6] + 6*m[3, 0, 0]*r[6, 0]**2*w[6]\n",
      "6*m[0, 1, 2]*r[6, 2]**2*w[6] + 12*m[0, 2, 1]*r[6, 1]*r[6, 2]*w[6] + 6*m[0, 3, 0]*r[6, 1]**2*w[6] + 12*m[1, 1, 1]*r[6, 0]*r[6, 2]*w[6] + 12*m[1, 2, 0]*r[6, 0]*r[6, 1]*w[6] + 6*m[2, 1, 0]*r[6, 0]**2*w[6]\n",
      "6*m[0, 0, 3]*r[6, 2]**2*w[6] + 12*m[0, 1, 2]*r[6, 1]*r[6, 2]*w[6] + 6*m[0, 2, 1]*r[6, 1]**2*w[6] + 12*m[1, 0, 2]*r[6, 0]*r[6, 2]*w[6] + 12*m[1, 1, 1]*r[6, 0]*r[6, 1]*w[6] + 6*m[2, 0, 1]*r[6, 0]**2*w[6]\n",
      "6*m[1, 0, 2]*r[7, 2]**2*w[7] + 12*m[1, 1, 1]*r[7, 1]*r[7, 2]*w[7] + 6*m[1, 2, 0]*r[7, 1]**2*w[7] + 12*m[2, 0, 1]*r[7, 0]*r[7, 2]*w[7] + 12*m[2, 1, 0]*r[7, 0]*r[7, 1]*w[7] + 6*m[3, 0, 0]*r[7, 0]**2*w[7]\n",
      "6*m[0, 1, 2]*r[7, 2]**2*w[7] + 12*m[0, 2, 1]*r[7, 1]*r[7, 2]*w[7] + 6*m[0, 3, 0]*r[7, 1]**2*w[7] + 12*m[1, 1, 1]*r[7, 0]*r[7, 2]*w[7] + 12*m[1, 2, 0]*r[7, 0]*r[7, 1]*w[7] + 6*m[2, 1, 0]*r[7, 0]**2*w[7]\n",
      "6*m[0, 0, 3]*r[7, 2]**2*w[7] + 12*m[0, 1, 2]*r[7, 1]*r[7, 2]*w[7] + 6*m[0, 2, 1]*r[7, 1]**2*w[7] + 12*m[1, 0, 2]*r[7, 0]*r[7, 2]*w[7] + 12*m[1, 1, 1]*r[7, 0]*r[7, 1]*w[7] + 6*m[2, 0, 1]*r[7, 0]**2*w[7]\n"
     ]
    }
   ],
   "source": [
    "def total_deriv(p, m_drivs, p_derivs):\n",
    "    total = 0\n",
    "    for entry in p.free_symbols:\n",
    "        if isinstance(entry, sympy.Indexed):\n",
    "            result = m_drivs[entry.indices] * p_derivs[entry.indices]\n",
    "            total += result\n",
    "    return total\n",
    "\n",
    "\n",
    "for i in range(NUM_POINTS):\n",
    "    for d in range(3):\n",
    "        print(total_deriv(phi[3], r_derivatives[i, d], derivs[:,:,:,3]))\n",
    "\n",
    "\n"
   ],
   "metadata": {
    "collapsed": false,
    "pycharm": {
     "name": "#%%\n"
    }
   }
  },
  {
   "cell_type": "code",
   "execution_count": null,
   "outputs": [],
   "source": [],
   "metadata": {
    "collapsed": false,
    "pycharm": {
     "name": "#%%\n"
    }
   }
  }
 ],
 "metadata": {
  "kernelspec": {
   "display_name": "Python 3",
   "language": "python",
   "name": "python3"
  },
  "language_info": {
   "codemirror_mode": {
    "name": "ipython",
    "version": 2
   },
   "file_extension": ".py",
   "mimetype": "text/x-python",
   "name": "python",
   "nbconvert_exporter": "python",
   "pygments_lexer": "ipython2",
   "version": "2.7.6"
  }
 },
 "nbformat": 4,
 "nbformat_minor": 0
}
