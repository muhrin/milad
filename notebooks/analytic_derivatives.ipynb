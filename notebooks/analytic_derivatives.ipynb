{
 "cells": [
  {
   "cell_type": "code",
   "execution_count": 1,
   "metadata": {},
   "outputs": [],
   "source": [
    "import itertools\n",
    "from typing import Tuple, Union\n",
    "\n",
    "import sympy\n",
    "\n",
    "from milad import geometric, invariants\n",
    "\n",
    "sympy.init_printing()\n",
    "ORDER = 10\n",
    "NUM_POINTS = 8"
   ]
  },
  {
   "cell_type": "code",
   "execution_count": 2,
   "metadata": {
    "pycharm": {
     "name": "#%%\n"
    }
   },
   "outputs": [],
   "source": [
    "O = sympy.IndexedBase('\\Omega')  # Weights of particles"
   ]
  },
  {
   "cell_type": "code",
   "execution_count": 3,
   "metadata": {
    "pycharm": {
     "name": "#%%\n"
    }
   },
   "outputs": [],
   "source": [
    "invs = invariants.read(invariants.COMPLEX_INVARIANTS)"
   ]
  },
  {
   "cell_type": "code",
   "execution_count": 4,
   "metadata": {
    "pycharm": {
     "name": "#%%\n"
    }
   },
   "outputs": [
    {
     "data": {
      "image/png": "[encoded data removed]",
      "text/latex": [
       "$\\displaystyle - 0.87831006565368 {\\Omega}_{2,2,-1}^{2} {\\Omega}_{2,2,2} + 0.717137165600636 {\\Omega}_{2,2,-1} {\\Omega}_{2,2,0} {\\Omega}_{2,2,1} + 1.43427433120127 {\\Omega}_{2,2,-2} {\\Omega}_{2,2,0} {\\Omega}_{2,2,2} - 0.87831006565368 {\\Omega}_{2,2,-2} {\\Omega}_{2,2,1}^{2} - 0.239045721866879 {\\Omega}_{2,2,0}^{3}$"
      ],
      "text/plain": [
       "                                   2                                          \n",
       "- 0.87831006565368⋅\\Omega[2, 2, -1] ⋅\\Omega[2, 2, 2] + 0.717137165600636⋅\\Omeg\n",
       "\n",
       "                                                                              \n",
       "a[2, 2, -1]⋅\\Omega[2, 2, 0]⋅\\Omega[2, 2, 1] + 1.43427433120127⋅\\Omega[2, 2, -2\n",
       "\n",
       "                                                                              \n",
       "]⋅\\Omega[2, 2, 0]⋅\\Omega[2, 2, 2] - 0.87831006565368⋅\\Omega[2, 2, -2]⋅\\Omega[2\n",
       "\n",
       "       2                                    3\n",
       ", 2, 1]  - 0.239045721866879⋅\\Omega[2, 2, 0] "
      ]
     },
     "execution_count": 4,
     "metadata": {},
     "output_type": "execute_result"
    }
   ],
   "source": [
    "invs[4](O)"
   ]
  },
  {
   "cell_type": "code",
   "execution_count": 6,
   "metadata": {
    "pycharm": {
     "name": "#%%\n"
    }
   },
   "outputs": [
    {
     "data": {
      "image/png": "[encoded data removed]",
      "text/latex": [
       "$\\displaystyle \\left( - 1.75662013130736 {\\Omega}_{2,2,-1} {\\Omega}_{2,2,2} + 0.717137165600636 {\\Omega}_{2,2,0} {\\Omega}_{2,2,1}, \\  0.717137165600636 {\\Omega}_{2,2,-1} {\\Omega}_{2,2,0} - 1.75662013130736 {\\Omega}_{2,2,-2} {\\Omega}_{2,2,1}\\right)$"
      ],
      "text/plain": [
       "(-1.75662013130736⋅\\Omega[2, 2, -1]⋅\\Omega[2, 2, 2] + 0.717137165600636⋅\\Omega\n",
       "[2, 2, 0]⋅\\Omega[2, 2, 1], 0.717137165600636⋅\\Omega[2, 2, -1]⋅\\Omega[2, 2, 0] \n",
       "- 1.75662013130736⋅\\Omega[2, 2, -2]⋅\\Omega[2, 2, 1])"
      ]
     },
     "execution_count": 6,
     "metadata": {},
     "output_type": "execute_result"
    }
   ],
   "source": [
    "invs[4].derivatives()[2, 2, -1](O), invs[4].derivatives()[2, 2, 1](O)"
   ]
  },
  {
   "cell_type": "code",
   "execution_count": null,
   "metadata": {
    "pycharm": {
     "name": "#%%\n"
    }
   },
   "outputs": [],
   "source": []
  }
 ],
 "metadata": {
  "@webio": {
   "lastCommId": null,
   "lastKernelId": null
  },
  "kernelspec": {
   "display_name": "Python 3",
   "language": "python",
   "name": "python3"
  },
  "language_info": {
   "codemirror_mode": {
    "name": "ipython",
    "version": 3
   },
   "file_extension": ".py",
   "mimetype": "text/x-python",
   "name": "python",
   "nbconvert_exporter": "python",
   "pygments_lexer": "ipython3",
   "version": "3.8.5"
  }
 },
 "nbformat": 4,
 "nbformat_minor": 1
}
