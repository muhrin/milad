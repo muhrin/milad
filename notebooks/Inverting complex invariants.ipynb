{
 "cells": [
  {
   "cell_type": "markdown",
   "metadata": {},
   "source": [
    "## This moment looks at the relationship between Zernike and geometric moments and solutions to the Zernike moments/invariants system"
   ]
  },
  {
   "cell_type": "markdown",
   "metadata": {},
   "source": [
    "### Connection between Zernike and geometric moments"
   ]
  },
  {
   "cell_type": "code",
   "execution_count": 1,
   "metadata": {},
   "outputs": [],
   "source": [
    "import numpy as np\n",
    "import sympy\n",
    "\n",
    "from milad import analytic\n",
    "from milad import geometric\n",
    "from milad import invariants\n",
    "from milad import zernike\n",
    "\n",
    "sympy.init_printing()"
   ]
  },
  {
   "cell_type": "code",
   "execution_count": 2,
   "metadata": {},
   "outputs": [],
   "source": [
    "max_order = 3\n",
    "phi = invariants.read(invariants.COMPLEX_INVARIANTS, max_order=max_order)"
   ]
  },
  {
   "cell_type": "code",
   "execution_count": 3,
   "metadata": {},
   "outputs": [],
   "source": [
    "O = sympy.IndexedBase('\\Omega', complex=True) # The Zernike moment symbols\n",
    "P = sympy.IndexedBase('\\Phi', complex=False) # The invariants, phi, symbols\n",
    "m = sympy.IndexedBase('m', real=True) # Geometric moment symbols"
   ]
  },
  {
   "cell_type": "markdown",
   "metadata": {},
   "source": [
    "Let's get the polynomials linking $\\Phi$ and $\\Omega$"
   ]
  },
  {
   "cell_type": "code",
   "execution_count": 4,
   "metadata": {},
   "outputs": [],
   "source": [
    "system = [] # The system of equations\n",
    "for idx, entry in enumerate(phi):\n",
    "    system.append(entry.apply(O) - P[idx + 1])"
   ]
  },
  {
   "cell_type": "code",
   "execution_count": 5,
   "metadata": {},
   "outputs": [
    {
     "data": {
      "image/png": "[encoded data removed]",
      "text/latex": [
       "$\\displaystyle {\\Omega}_{2,0,0} - {\\Phi}_{3}$"
      ],
      "text/plain": [
       "\\Omega[2, 0, 0] - \\Phi[3]"
      ]
     },
     "execution_count": 5,
     "metadata": {},
     "output_type": "execute_result"
    }
   ],
   "source": [
    "system[2]"
   ]
  },
  {
   "cell_type": "markdown",
   "metadata": {},
   "source": [
    "Now, let's find the Zernike moments that aren't in our system of invariants"
   ]
  },
  {
   "cell_type": "code",
   "execution_count": 6,
   "metadata": {},
   "outputs": [
    {
     "data": {
      "image/png": "[encoded data removed]",
      "text/latex": [
       "$\\displaystyle \\left\\{\\right\\}$"
      ],
      "text/plain": [
       "set()"
      ]
     },
     "execution_count": 6,
     "metadata": {},
     "output_type": "execute_result"
    }
   ],
   "source": [
    "all_symbols = set()\n",
    "for indices in zernike.iter_indices(max_order, redundant=True):\n",
    "    all_symbols.add(O[indices])\n",
    "\n",
    "free_symbols = set()\n",
    "for eq in system:\n",
    "    for symbol in eq.free_symbols:\n",
    "        if isinstance(symbol, sympy.Indexed) and symbol.base == O:\n",
    "            free_symbols.add(symbol)\n",
    "            \n",
    "            \n",
    "diff = all_symbols - free_symbols\n",
    "diff"
   ]
  },
  {
   "cell_type": "markdown",
   "metadata": {},
   "source": [
    "Here we see that the 1$^{st}$ order moments are 'missing'.  This is intentional as these encode global translation and we're assuming environments to be centred in which case these moments are 0.\n",
    "Let's have a look at the connection to the geometric moments:"
   ]
  },
  {
   "cell_type": "code",
   "execution_count": 8,
   "metadata": {},
   "outputs": [],
   "source": [
    "symbols_array = np.array(analytic.create_array(m, (max_order + 1, max_order + 1, max_order + 1)), dtype=object)\n",
    "geom_moments = geometric.GeometricMoments(symbols_array)\n",
    "# geom_moments = geometric.GeometricMoments(m)\n",
    "z_from_g = zernike.from_geometric_moments(max_order, geom_moments)"
   ]
  },
  {
   "cell_type": "code",
   "execution_count": 9,
   "metadata": {},
   "outputs": [
    {
     "data": {
      "image/png": "[encoded data removed]",
      "text/latex": [
       "$\\displaystyle \\left\\{ \\right\\}$"
      ],
      "text/plain": [
       "{}"
      ]
     },
     "execution_count": 9,
     "metadata": {},
     "output_type": "execute_result"
    }
   ],
   "source": [
    "diff_list = list(diff)\n",
    "\n",
    "dict(zip(diff_list, tuple(z_from_g[mom.indices] for mom in diff_list)))"
   ]
  },
  {
   "cell_type": "code",
   "execution_count": null,
   "metadata": {},
   "outputs": [],
   "source": [
    "z_from_g[2,0,0], z_from_g[2,2,1], z_from_g[2,2,2]"
   ]
  },
  {
   "cell_type": "markdown",
   "metadata": {},
   "source": [
    "We see that these contain three moments corresponding to sums of the $x$, $y$ and $z$ coordinates respectively which will naturally be 0 if the system is centred.\n",
    "\n",
    "### Solving for Zernike moments from invariants\n",
    "\n",
    "Let's look at the difference in the number of equations vs number of unknowns:"
   ]
  },
  {
   "cell_type": "code",
   "execution_count": null,
   "metadata": {},
   "outputs": [],
   "source": [
    "print(f'Free symbols: {len(free_symbols)}')\n",
    "print(f'Number of Phi: {len(phi)}')\n",
    "free_symbols"
   ]
  },
  {
   "cell_type": "markdown",
   "metadata": {},
   "source": [
    "As expected there are three fewer equations than the number of unknowns.  What's more, any moments $\\Omega_{n0}^0$ are absolute invariants and therefore do not interact with the other moments so we don't need to solve for them."
   ]
  },
  {
   "cell_type": "code",
   "execution_count": null,
   "metadata": {},
   "outputs": [],
   "source": [
    "indep_symbols = set()\n",
    "redundant = set()\n",
    "for entry in list(free_symbols):\n",
    "    indices = entry.indices\n",
    "    if indices[1] == indices[2] == 0:\n",
    "        redundant.add(entry)\n",
    "    else:\n",
    "        indep_symbols.add(entry)\n",
    "len(indep_symbols), indep_symbols"
   ]
  },
  {
   "cell_type": "markdown",
   "metadata": {},
   "source": [
    "Let's remove the reundant equations to make the life of the solver easier"
   ]
  },
  {
   "cell_type": "code",
   "execution_count": null,
   "metadata": {},
   "outputs": [],
   "source": [
    "to_solve = []\n",
    "for eqn in system:\n",
    "    found = False\n",
    "    for symbol in redundant:\n",
    "        if symbol in eqn.free_symbols:\n",
    "            found = True\n",
    "            break\n",
    "    if not found:\n",
    "        to_solve.append(eqn)\n",
    "\n",
    "\n",
    "# Let's add the relationships between positive and negative $m$ values\n",
    "symbols_left = set()\n",
    "for symbol in indep_symbols:\n",
    "    m_value = symbol.indices[2]\n",
    "    if m_value < 0:\n",
    "        symb = symbol.base[symbol.indices[0], symbol.indices[1], -m_value]\n",
    "        sym = (-1)**(-m_value) * sympy.conjugate(symb)\n",
    "        for i, eqn in enumerate(to_solve):\n",
    "            to_solve[i] = eqn.subs(symbol, sym)\n",
    "#         to_solve.append(symbol - (-1)**m_value * sympy.conjugate(sym))\n",
    "    else:\n",
    "        symbols_left.add(symbol)\n",
    "\n",
    "len(to_solve), len(symbols_left), symbols_left"
   ]
  },
  {
   "cell_type": "code",
   "execution_count": null,
   "metadata": {},
   "outputs": [],
   "source": [
    "reduced_eqns = list(to_solve)\n",
    "soln = sympy.nonlinsolve(reduced_eqns[:1], (O[2, 2, 0],))\n",
    "reduced_eqns[:2]"
   ]
  },
  {
   "cell_type": "code",
   "execution_count": null,
   "metadata": {},
   "outputs": [],
   "source": [
    "system[2]"
   ]
  },
  {
   "cell_type": "markdown",
   "metadata": {},
   "source": [
    "Now, let's try and solve the system of the remaining unknowns"
   ]
  },
  {
   "cell_type": "code",
   "execution_count": null,
   "metadata": {},
   "outputs": [],
   "source": [
    "solve_for = list(symbols_left)\n",
    "print(\"Solving for {}\".format(solve_for))\n",
    "soln = sympy.nonlinsolve(to_solve, solve_for)"
   ]
  },
  {
   "cell_type": "code",
   "execution_count": null,
   "metadata": {},
   "outputs": [],
   "source": [
    "to_solve[4]"
   ]
  },
  {
   "cell_type": "code",
   "execution_count": null,
   "metadata": {},
   "outputs": [],
   "source": [
    "solutions = list(soln)\n",
    "print(solve_for[0])\n",
    "solutions[0][0]"
   ]
  },
  {
   "cell_type": "code",
   "execution_count": null,
   "metadata": {},
   "outputs": [],
   "source": [
    "sympy.simplify(to_solve[1].subs(solve_for[0], solutions[0][0]))\n",
    "# solve_for[0].subs(solve_for[0], solutions[0][0])"
   ]
  },
  {
   "cell_type": "code",
   "execution_count": null,
   "metadata": {},
   "outputs": [],
   "source": [
    "find_symbols = list(symbols_left - set((O[2, 2, 2], O[2, 2, 1], O[2, 2, 0])))\n",
    "soln3 = sympy.nonlinsolve(to_solve[2:], find_symbols)"
   ]
  },
  {
   "cell_type": "code",
   "execution_count": null,
   "metadata": {},
   "outputs": [],
   "source": []
  }
 ],
 "metadata": {
  "@webio": {
   "lastCommId": null,
   "lastKernelId": null
  },
  "kernelspec": {
   "display_name": "Python 3",
   "language": "python",
   "name": "python3"
  },
  "language_info": {
   "codemirror_mode": {
    "name": "ipython",
    "version": 3
   },
   "file_extension": ".py",
   "mimetype": "text/x-python",
   "name": "python",
   "nbconvert_exporter": "python",
   "pygments_lexer": "ipython3",
   "version": "3.8.5"
  }
 },
 "nbformat": 4,
 "nbformat_minor": 4
}
