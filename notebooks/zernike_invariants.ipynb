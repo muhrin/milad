{
 "cells": [
  {
   "cell_type": "markdown",
   "source": [
    "This notebook explores the properties of Zernike moments and their invariants."
   ],
   "metadata": {
    "collapsed": false,
    "pycharm": {
     "name": "#%% md\n"
    }
   }
  },
  {
   "cell_type": "code",
   "execution_count": 1,
   "metadata": {
    "collapsed": true
   },
   "outputs": [],
   "source": [
    "from milad import invariants\n",
    "from milad import generate\n",
    "from milad import transform\n",
    "from milad import zernike\n"
   ]
  },
  {
   "cell_type": "code",
   "execution_count": 4,
   "outputs": [
    {
     "name": "stdout",
     "output_type": "stream",
     "text": [
      "(2.38732414637843+0j) (-0.7111416434876439-0j) (0.06547447456632392+0.03277075861225991j)\n",
      "(2.38732414637843+0j) (-0.3204894704112141-0j) (-0.12560202092573283-0.43713777005430937j)\n",
      "(2.38732414637843+0j) (0.4020770401869935+0j) (0.4114931970424203-0.08979099986053105j)\n",
      "(2.38732414637843+0j) (-0.16329838808116962-0j) (-0.06843989210051521+0.4901069754504912j)\n",
      "(2.38732414637843+0j) (-0.7068090163009818-0j) (0.08236632543311913-0.040599798809567864j)\n",
      "(2.38732414637843+0j) (0.1728013079266447+0j) (-0.48932750685894255-0.06205234090301923j)\n",
      "(2.38732414637843+0j) (0.7066736465222471+0j) (-0.04713130223264547-0.07941578556082426j)\n",
      "(2.38732414637843+0j) (-0.25366046488669924-0j) (-0.02103728002015612-0.47498175240423496j)\n",
      "(2.38732414637843+0j) (-0.7126143367805388-0j) (-0.06378576499825436-0.015614982610186127j)\n",
      "(2.38732414637843+0j) (-0.3633895494708195-0j) (0.22068433405857907-0.37880666620286857j)\n",
      "(2.38732414637843+0j) (-0.08511695512288427-0j) (0.5045782828461073+0.0005970312309508604j)\n"
     ]
    }
   ],
   "source": [
    "\n",
    "pts = generate.random_points_in_sphere(10,  0.7)\n",
    "m = zernike.from_deltas(3, pts)\n",
    "\n",
    "print(m[0,0,0], m[1,1,0], m[1,1,1])\n",
    "\n",
    "# Now rotate several times\n",
    "for _ in range(10):\n",
    "    rotated = transform.randomly_rotate(pts)\n",
    "    m_rotated = zernike.from_deltas(3, rotated)\n",
    "    print(m_rotated[0,0,0], m_rotated[1,1,0], m_rotated[1,1,1])\n"
   ],
   "metadata": {
    "collapsed": false,
    "pycharm": {
     "name": "#%%\n"
    }
   }
  },
  {
   "cell_type": "code",
   "execution_count": null,
   "outputs": [],
   "source": [
    "\n"
   ],
   "metadata": {
    "collapsed": false,
    "pycharm": {
     "name": "#%%\n"
    }
   }
  }
 ],
 "metadata": {
  "kernelspec": {
   "display_name": "Python 3",
   "language": "python",
   "name": "python3"
  },
  "language_info": {
   "codemirror_mode": {
    "name": "ipython",
    "version": 2
   },
   "file_extension": ".py",
   "mimetype": "text/x-python",
   "name": "python",
   "nbconvert_exporter": "python",
   "pygments_lexer": "ipython2",
   "version": "2.7.6"
  }
 },
 "nbformat": 4,
 "nbformat_minor": 0
}
